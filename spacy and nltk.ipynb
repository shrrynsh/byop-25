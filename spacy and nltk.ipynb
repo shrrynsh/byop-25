{
 "cells": [
  {
   "cell_type": "code",
   "execution_count": 35,
   "id": "c3a30cb5-399e-45ca-aa48-20ae8fb7dfc3",
   "metadata": {},
   "outputs": [],
   "source": [
    "import spacy\n"
   ]
  },
  {
   "cell_type": "code",
   "execution_count": 37,
   "id": "56e8a99d-f0ac-4511-88b2-91cc195825fb",
   "metadata": {},
   "outputs": [],
   "source": [
    "nlp=spacy.load(\"en_core_web_sm\")\n",
    "doc=nlp(\"Dr. Strange love pav bhaji of mumbai.Hulk loves chaat of delhi \")"
   ]
  },
  {
   "cell_type": "code",
   "execution_count": 38,
   "id": "5aa938be-ef20-4620-b3f1-604ec6d8e593",
   "metadata": {},
   "outputs": [
    {
     "name": "stdout",
     "output_type": "stream",
     "text": [
      "Dr. Strange love pav bhaji of mumbai.\n",
      "Hulk loves chaat of delhi\n"
     ]
    }
   ],
   "source": [
    "for sentence in doc.sents:\n",
    "    print(sentence)"
   ]
  },
  {
   "cell_type": "code",
   "execution_count": 41,
   "id": "eecefd3b-9858-4f77-98af-1450cb2bf508",
   "metadata": {},
   "outputs": [
    {
     "name": "stdout",
     "output_type": "stream",
     "text": [
      "Dr.\n",
      "Strange\n",
      "love\n",
      "pav\n",
      "bhaji\n",
      "of\n",
      "mumbai\n",
      ".\n",
      "Hulk\n",
      "loves\n",
      "chaat\n",
      "of\n",
      "delhi\n"
     ]
    }
   ],
   "source": [
    "for sentence in doc.sents:\n",
    "    for word in sentence:\n",
    "        print(word)"
   ]
  },
  {
   "cell_type": "code",
   "execution_count": 49,
   "id": "809d7681-3812-441f-8021-d0b48b76b9f9",
   "metadata": {},
   "outputs": [],
   "source": [
    "import nltk"
   ]
  },
  {
   "cell_type": "code",
   "execution_count": 51,
   "id": "0c92f14d-30ee-4295-ba12-7b9580ddd322",
   "metadata": {},
   "outputs": [],
   "source": [
    "from nltk.tokenize import sent_tokenize"
   ]
  },
  {
   "cell_type": "code",
   "execution_count": 65,
   "id": "78cf1ca5-19c9-40fc-9b31-a00b3a0b1b7f",
   "metadata": {},
   "outputs": [
    {
     "data": {
      "text/plain": [
       "['Dr.', 'Strange love pav bhaji of mumbai.Hulk loves chaat of delhi']"
      ]
     },
     "execution_count": 65,
     "metadata": {},
     "output_type": "execute_result"
    }
   ],
   "source": [
    "sentences=sent_tokenize(\"Dr. Strange love pav bhaji of mumbai.Hulk loves chaat of delhi\")\n",
    "sentences"
   ]
  },
  {
   "cell_type": "code",
   "execution_count": 67,
   "id": "f8355f08-9969-48f2-8e8d-70903bc183b6",
   "metadata": {},
   "outputs": [],
   "source": [
    "from nltk.tokenize import word_tokenize"
   ]
  },
  {
   "cell_type": "code",
   "execution_count": 73,
   "id": "8529babe-8e59-4e1e-8a88-f4f52d943c15",
   "metadata": {},
   "outputs": [
    {
     "data": {
      "text/plain": [
       "['Dr', '.']"
      ]
     },
     "execution_count": 73,
     "metadata": {},
     "output_type": "execute_result"
    }
   ],
   "source": [
    "word_tokenize(sentences[0])"
   ]
  },
  {
   "cell_type": "code",
   "execution_count": null,
   "id": "ba053cfc-354e-418b-882e-3bb12eaf5ec5",
   "metadata": {},
   "outputs": [],
   "source": []
  }
 ],
 "metadata": {
  "kernelspec": {
   "display_name": "Python 3 (ipykernel)",
   "language": "python",
   "name": "python3"
  },
  "language_info": {
   "codemirror_mode": {
    "name": "ipython",
    "version": 3
   },
   "file_extension": ".py",
   "mimetype": "text/x-python",
   "name": "python",
   "nbconvert_exporter": "python",
   "pygments_lexer": "ipython3",
   "version": "3.12.7"
  }
 },
 "nbformat": 4,
 "nbformat_minor": 5
}
