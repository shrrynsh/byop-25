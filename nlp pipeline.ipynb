{
 "cells": [
  {
   "cell_type": "code",
   "execution_count": 34,
   "id": "4575fccb-87fb-4634-ac22-42fe22ace33b",
   "metadata": {},
   "outputs": [],
   "source": [
    "import spacy\n"
   ]
  },
  {
   "cell_type": "code",
   "execution_count": 35,
   "id": "cd45b8de-a63e-4c7f-bf78-a121c918060d",
   "metadata": {},
   "outputs": [],
   "source": [
    "nlp=spacy.load(\"en_core_web_sm\")"
   ]
  },
  {
   "cell_type": "code",
   "execution_count": 36,
   "id": "fc630621-b806-4dc2-b37e-7a9198385e92",
   "metadata": {},
   "outputs": [
    {
     "data": {
      "text/plain": [
       "['tok2vec', 'tagger', 'parser', 'attribute_ruler', 'lemmatizer', 'ner']"
      ]
     },
     "execution_count": 36,
     "metadata": {},
     "output_type": "execute_result"
    }
   ],
   "source": [
    "nlp.pipe_names"
   ]
  },
  {
   "cell_type": "code",
   "execution_count": 45,
   "id": "0f2b9df5-d2ef-4efa-9b32-3290f4db1499",
   "metadata": {},
   "outputs": [
    {
     "name": "stdout",
     "output_type": "stream",
     "text": [
      "captain  |  PROPN  |  captain\n",
      "america  |  PROPN  |  america\n",
      "ate  |  VERB  |  eat\n",
      "100  |  NUM  |  100\n",
      "$  |  NUM  |  $\n",
      "of  |  ADP  |  of\n",
      "samosa  |  PROPN  |  samosa\n",
      ".  |  PUNCT  |  .\n",
      "Then  |  ADV  |  then\n",
      "he  |  PRON  |  he\n",
      "said  |  VERB  |  say\n",
      "I  |  PRON  |  I\n",
      "can  |  AUX  |  can\n",
      "do  |  VERB  |  do\n",
      "this  |  PRON  |  this\n",
      "all  |  DET  |  all\n",
      "day  |  NOUN  |  day\n"
     ]
    }
   ],
   "source": [
    "doc=nlp(\"captain america ate 100$ of samosa.Then he said I can do this all day\")\n",
    "\n",
    "for token in doc:\n",
    "    print(token,\" | \",token.pos_,\" | \",token.lemma_)"
   ]
  },
  {
   "cell_type": "code",
   "execution_count": 68,
   "id": "2c9921f7-d72b-4673-b9e4-b4225998664d",
   "metadata": {},
   "outputs": [
    {
     "name": "stdout",
     "output_type": "stream",
     "text": [
      "Tesla Inc ORG Companies, agencies, institutions, etc.\n",
      "45$ Dollars MONEY Monetary values, including unit\n"
     ]
    }
   ],
   "source": [
    "doc=nlp(\"Tesla Inc is going to acquire twitter for 45$ Dollars\")\n",
    "for ent in doc.ents:\n",
    " print(ent,ent.label_,spacy.explain(ent.label_))"
   ]
  },
  {
   "cell_type": "code",
   "execution_count": 70,
   "id": "73c0ede6-403d-496c-a5b8-e4ca0e274fda",
   "metadata": {},
   "outputs": [
    {
     "data": {
      "text/plain": [
       "spacy.tokens.span.Span"
      ]
     },
     "execution_count": 70,
     "metadata": {},
     "output_type": "execute_result"
    }
   ],
   "source": [
    "type(ent)"
   ]
  },
  {
   "cell_type": "code",
   "execution_count": null,
   "id": "17bdf2a9-381e-4338-a258-57838ef5b3f7",
   "metadata": {},
   "outputs": [],
   "source": []
  }
 ],
 "metadata": {
  "kernelspec": {
   "display_name": "Python 3 (ipykernel)",
   "language": "python",
   "name": "python3"
  },
  "language_info": {
   "codemirror_mode": {
    "name": "ipython",
    "version": 3
   },
   "file_extension": ".py",
   "mimetype": "text/x-python",
   "name": "python",
   "nbconvert_exporter": "python",
   "pygments_lexer": "ipython3",
   "version": "3.12.7"
  }
 },
 "nbformat": 4,
 "nbformat_minor": 5
}
