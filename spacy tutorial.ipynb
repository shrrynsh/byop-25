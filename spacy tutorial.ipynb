{
 "cells": [
  {
   "cell_type": "code",
   "execution_count": 247,
   "id": "b0b19702-c17a-40b4-a045-8c3b52cbe19b",
   "metadata": {},
   "outputs": [],
   "source": [
    "import spacy\n"
   ]
  },
  {
   "cell_type": "code",
   "execution_count": 248,
   "id": "ab910ae3-c31a-4fe0-894e-fadabb71be90",
   "metadata": {},
   "outputs": [],
   "source": [
    "nlp=spacy.blank('en')"
   ]
  },
  {
   "cell_type": "code",
   "execution_count": 249,
   "id": "b469080e-518f-4234-a9b1-ecff8c5aaf5e",
   "metadata": {},
   "outputs": [],
   "source": [
    "doc=nlp(\"Dr. Strange loves pav bhaji as it costs only 2$ per plate\")"
   ]
  },
  {
   "cell_type": "code",
   "execution_count": 250,
   "id": "3c686277-566c-47c2-8901-24e19fbe321c",
   "metadata": {},
   "outputs": [
    {
     "name": "stdout",
     "output_type": "stream",
     "text": [
      "Dr.\n",
      "Strange\n",
      "loves\n",
      "pav\n",
      "bhaji\n",
      "as\n",
      "it\n",
      "costs\n",
      "only\n",
      "2\n",
      "$\n",
      "per\n",
      "plate\n"
     ]
    }
   ],
   "source": [
    "for token in doc:\n",
    "    print(token)"
   ]
  },
  {
   "cell_type": "code",
   "execution_count": 251,
   "id": "cbd8b1e0-f4d0-40df-84f0-df4956551dc2",
   "metadata": {},
   "outputs": [],
   "source": [
    "doc2=nlp('''\"Let's go to N.Y.!''')"
   ]
  },
  {
   "cell_type": "code",
   "execution_count": 252,
   "id": "97182bee-351c-40f0-b32b-f006434e9e6d",
   "metadata": {},
   "outputs": [
    {
     "name": "stdout",
     "output_type": "stream",
     "text": [
      "\"\n",
      "Let\n",
      "'s\n",
      "go\n",
      "to\n",
      "N.Y.\n",
      "!\n"
     ]
    }
   ],
   "source": [
    "for token in doc2:\n",
    "    print(token)"
   ]
  },
  {
   "cell_type": "code",
   "execution_count": 253,
   "id": "1ccc8eb1-1784-4869-b90f-0ff4831bebc5",
   "metadata": {},
   "outputs": [
    {
     "data": {
      "text/plain": [
       "spacy.lang.en.English"
      ]
     },
     "execution_count": 253,
     "metadata": {},
     "output_type": "execute_result"
    }
   ],
   "source": [
    "type(nlp)"
   ]
  },
  {
   "cell_type": "code",
   "execution_count": 254,
   "id": "a00607f0-85ca-4805-b4d8-21e6cf31cbb2",
   "metadata": {},
   "outputs": [
    {
     "data": {
      "text/plain": [
       "'s go to N.Y."
      ]
     },
     "execution_count": 254,
     "metadata": {},
     "output_type": "execute_result"
    }
   ],
   "source": [
    "doc2[2:6]"
   ]
  },
  {
   "cell_type": "code",
   "execution_count": 255,
   "id": "d38a6ff4-b5bf-4034-b21c-0780b0664e60",
   "metadata": {},
   "outputs": [],
   "source": [
    "doc3=nlp(\"Tony gave two $ to Peter\")\n"
   ]
  },
  {
   "cell_type": "code",
   "execution_count": 256,
   "id": "f32d631d-7fc6-4ffa-a20f-150969e5b01e",
   "metadata": {},
   "outputs": [
    {
     "data": {
      "text/plain": [
       "Tony"
      ]
     },
     "execution_count": 256,
     "metadata": {},
     "output_type": "execute_result"
    }
   ],
   "source": [
    "token0=doc3[0]\n",
    "token0\n"
   ]
  },
  {
   "cell_type": "code",
   "execution_count": 257,
   "id": "f8e6d236-4c23-4758-8128-4c86e76df563",
   "metadata": {},
   "outputs": [
    {
     "name": "stdout",
     "output_type": "stream",
     "text": [
      "Tony\n",
      "gave\n",
      "two\n",
      "$\n",
      "to\n",
      "Peter\n"
     ]
    }
   ],
   "source": [
    "for token in doc3:\n",
    "    print(token)"
   ]
  },
  {
   "cell_type": "code",
   "execution_count": 258,
   "id": "a548afc1-558a-4c5b-acee-c5362421abb5",
   "metadata": {},
   "outputs": [
    {
     "data": {
      "text/plain": [
       "True"
      ]
     },
     "execution_count": 258,
     "metadata": {},
     "output_type": "execute_result"
    }
   ],
   "source": [
    "token0.is_alpha"
   ]
  },
  {
   "cell_type": "code",
   "execution_count": 259,
   "id": "344d02c5-3f47-4e7f-b0c9-984f75151095",
   "metadata": {},
   "outputs": [
    {
     "data": {
      "text/plain": [
       "False"
      ]
     },
     "execution_count": 259,
     "metadata": {},
     "output_type": "execute_result"
    }
   ],
   "source": [
    "token0.like_num"
   ]
  },
  {
   "cell_type": "code",
   "execution_count": 260,
   "id": "0c24a1c9-754a-4833-9c2f-23914a5ab59d",
   "metadata": {},
   "outputs": [
    {
     "data": {
      "text/plain": [
       "two"
      ]
     },
     "execution_count": 260,
     "metadata": {},
     "output_type": "execute_result"
    }
   ],
   "source": [
    "token2=doc3[2]\n",
    "token2"
   ]
  },
  {
   "cell_type": "code",
   "execution_count": 261,
   "id": "d4cb4c37-f6d7-4cfa-8924-94ad1a71ef97",
   "metadata": {},
   "outputs": [
    {
     "data": {
      "text/plain": [
       "True"
      ]
     },
     "execution_count": 261,
     "metadata": {},
     "output_type": "execute_result"
    }
   ],
   "source": [
    "token2.is_alpha"
   ]
  },
  {
   "cell_type": "code",
   "execution_count": 262,
   "id": "bb98bcf3-ea16-43ad-9356-44bc0bcdc90d",
   "metadata": {},
   "outputs": [
    {
     "data": {
      "text/plain": [
       "$"
      ]
     },
     "execution_count": 262,
     "metadata": {},
     "output_type": "execute_result"
    }
   ],
   "source": [
    "token3=doc3[3]\n",
    "token3"
   ]
  },
  {
   "cell_type": "code",
   "execution_count": 263,
   "id": "c1cf575b-9ddf-4c6b-b809-a3456e8e2362",
   "metadata": {},
   "outputs": [
    {
     "data": {
      "text/plain": [
       "True"
      ]
     },
     "execution_count": 263,
     "metadata": {},
     "output_type": "execute_result"
    }
   ],
   "source": [
    "token3.is_currency"
   ]
  },
  {
   "cell_type": "code",
   "execution_count": 264,
   "id": "8b6afdee-74af-4907-af4f-ccb9fd3d9dd9",
   "metadata": {},
   "outputs": [
    {
     "data": {
      "text/plain": [
       "['Virat   5,June,1882\\tvirat@kohli.com\\n',\n",
       " 'Maria\\t12 April,2001\\tmaria@sharapova.com\\n',\n",
       " 'Serena  24 June,1998\\tserena@williams.com\\n',\n",
       " 'Joe\\t1 May,1997\\tjoe@root.com']"
      ]
     },
     "execution_count": 264,
     "metadata": {},
     "output_type": "execute_result"
    }
   ],
   "source": [
    "with open(\"students.txt\") as f:\n",
    "    text=f.readlines()\n",
    "text"
   ]
  },
  {
   "cell_type": "code",
   "execution_count": 265,
   "id": "a323659e-7adc-4f89-9f94-e9da1e8fa7e4",
   "metadata": {},
   "outputs": [
    {
     "data": {
      "text/plain": [
       "'Virat   5,June,1882\\tvirat@kohli.com\\n Maria\\t12 April,2001\\tmaria@sharapova.com\\n Serena  24 June,1998\\tserena@williams.com\\n Joe\\t1 May,1997\\tjoe@root.com'"
      ]
     },
     "execution_count": 265,
     "metadata": {},
     "output_type": "execute_result"
    }
   ],
   "source": [
    "text= ' '.join(text)\n",
    "text"
   ]
  },
  {
   "cell_type": "code",
   "execution_count": null,
   "id": "a69e9eeb-2fb6-4bee-b859-ab8e9d1b4d84",
   "metadata": {},
   "outputs": [],
   "source": []
  },
  {
   "cell_type": "code",
   "execution_count": 266,
   "id": "42e5d8fb-15de-4ac6-adbd-32df4f829915",
   "metadata": {},
   "outputs": [
    {
     "name": "stdout",
     "output_type": "stream",
     "text": [
      "virat@kohli.com\n",
      "maria@sharapova.com\n",
      "serena@williams.com\n",
      "joe@root.com\n"
     ]
    }
   ],
   "source": [
    "doc4=nlp(text)\n",
    "\n",
    "for token in doc4:\n",
    "    if(token.like_email):\n",
    "        print(token)\n",
    "    "
   ]
  },
  {
   "cell_type": "code",
   "execution_count": 267,
   "id": "040aab06-67be-4f8f-aa99-6def6197a7ba",
   "metadata": {},
   "outputs": [],
   "source": [
    "nlp=spacy.blank(\"hi\")\n",
    "doc=nlp(\"केसो हो बबुआ\")"
   ]
  },
  {
   "cell_type": "code",
   "execution_count": 268,
   "id": "807d9c05-575e-4243-a507-21ee3ceddf35",
   "metadata": {},
   "outputs": [
    {
     "name": "stdout",
     "output_type": "stream",
     "text": [
      "केसो\n",
      "हो\n",
      "बबुआ\n"
     ]
    }
   ],
   "source": [
    "for token in doc:\n",
    "    print(token)"
   ]
  },
  {
   "cell_type": "code",
   "execution_count": 269,
   "id": "2fe4d7ff-dc7e-4bd8-975f-0ebcf34125a7",
   "metadata": {},
   "outputs": [
    {
     "data": {
      "text/plain": [
       "केसो हो बबुआ"
      ]
     },
     "execution_count": 269,
     "metadata": {},
     "output_type": "execute_result"
    }
   ],
   "source": [
    "doc"
   ]
  },
  {
   "cell_type": "code",
   "execution_count": 270,
   "id": "e9db7bc4-1f8f-4cf3-88be-85703c74eae8",
   "metadata": {},
   "outputs": [
    {
     "data": {
      "text/plain": [
       "हो"
      ]
     },
     "execution_count": 270,
     "metadata": {},
     "output_type": "execute_result"
    }
   ],
   "source": [
    "doc[1]"
   ]
  },
  {
   "cell_type": "code",
   "execution_count": 271,
   "id": "887437ba-d8c5-4daa-92fa-2b899b5d7aa4",
   "metadata": {},
   "outputs": [],
   "source": [
    "nlp=spacy.blank(\"en\")\n"
   ]
  },
  {
   "cell_type": "code",
   "execution_count": 272,
   "id": "ae003886-7b91-4d2f-ad4d-77c1ea15ea77",
   "metadata": {},
   "outputs": [],
   "source": [
    "doc=nlp(\"gimme double cheese extra large healthy pizza\")"
   ]
  },
  {
   "cell_type": "code",
   "execution_count": 273,
   "id": "faf8487a-796f-4f05-8c64-efb29ce53135",
   "metadata": {},
   "outputs": [],
   "source": [
    "tokens=[token.text for token in doc]"
   ]
  },
  {
   "cell_type": "code",
   "execution_count": 274,
   "id": "dcc1a23c-d885-4b0c-b325-bed513195baa",
   "metadata": {},
   "outputs": [
    {
     "data": {
      "text/plain": [
       "['gimme', 'double', 'cheese', 'extra', 'large', 'healthy', 'pizza']"
      ]
     },
     "execution_count": 274,
     "metadata": {},
     "output_type": "execute_result"
    }
   ],
   "source": [
    "tokens"
   ]
  },
  {
   "cell_type": "code",
   "execution_count": 275,
   "id": "ae0be378-9df4-48a3-ad20-7f4df836503b",
   "metadata": {},
   "outputs": [],
   "source": [
    "from spacy.symbols import ORTH"
   ]
  },
  {
   "cell_type": "code",
   "execution_count": 276,
   "id": "bbe277d6-8c7a-44d0-a41f-4599c490e26b",
   "metadata": {},
   "outputs": [],
   "source": [
    "nlp.tokenizer.add_special_case(\"gimme\",[{ORTH:\"gim\"},{ORTH:\"me\"}])\n",
    "doc=nlp(\"gimme double cheese extra large healthy pizza\")\n",
    "tokens=[token.text for token in doc]"
   ]
  },
  {
   "cell_type": "code",
   "execution_count": 277,
   "id": "af01690f-bb37-47cf-8042-af6f7a6ae286",
   "metadata": {},
   "outputs": [
    {
     "data": {
      "text/plain": [
       "['gim', 'me', 'double', 'cheese', 'extra', 'large', 'healthy', 'pizza']"
      ]
     },
     "execution_count": 277,
     "metadata": {},
     "output_type": "execute_result"
    }
   ],
   "source": [
    "tokens"
   ]
  },
  {
   "cell_type": "code",
   "execution_count": 278,
   "id": "57947f7f-83d7-4b92-af5a-82b359663688",
   "metadata": {},
   "outputs": [
    {
     "data": {
      "text/plain": [
       "[]"
      ]
     },
     "execution_count": 278,
     "metadata": {},
     "output_type": "execute_result"
    }
   ],
   "source": [
    "nlp.pipe_names"
   ]
  },
  {
   "cell_type": "code",
   "execution_count": 279,
   "id": "03130063-0056-4405-9e45-d746cc54c1f6",
   "metadata": {},
   "outputs": [
    {
     "data": {
      "text/plain": [
       "<spacy.pipeline.sentencizer.Sentencizer at 0x17bd6537d50>"
      ]
     },
     "execution_count": 279,
     "metadata": {},
     "output_type": "execute_result"
    }
   ],
   "source": [
    "nlp.add_pipe('sentencizer')"
   ]
  },
  {
   "cell_type": "code",
   "execution_count": 280,
   "id": "7807f5a1-ed94-4fac-bcca-d3e2b3119d4f",
   "metadata": {},
   "outputs": [
    {
     "name": "stdout",
     "output_type": "stream",
     "text": [
      "Dr. Strange loves pav bhaji of mumbai.\n",
      "Hulk loves chat of delhi\n"
     ]
    }
   ],
   "source": [
    "doc=nlp(\"Dr. Strange loves pav bhaji of mumbai.Hulk loves chat of delhi\")\n",
    "for sentence in doc.sents:\n",
    "    print(sentence)"
   ]
  },
  {
   "cell_type": "code",
   "execution_count": 281,
   "id": "b501f6de-b7f3-4cca-b480-8010688fd1b5",
   "metadata": {},
   "outputs": [
    {
     "data": {
      "text/plain": [
       "['sentencizer']"
      ]
     },
     "execution_count": 281,
     "metadata": {},
     "output_type": "execute_result"
    }
   ],
   "source": [
    "nlp.pipe_names"
   ]
  },
  {
   "cell_type": "code",
   "execution_count": null,
   "id": "011efdca-451a-4d8d-8389-64cea66788d2",
   "metadata": {},
   "outputs": [],
   "source": []
  }
 ],
 "metadata": {
  "kernelspec": {
   "display_name": "Python 3 (ipykernel)",
   "language": "python",
   "name": "python3"
  },
  "language_info": {
   "codemirror_mode": {
    "name": "ipython",
    "version": 3
   },
   "file_extension": ".py",
   "mimetype": "text/x-python",
   "name": "python",
   "nbconvert_exporter": "python",
   "pygments_lexer": "ipython3",
   "version": "3.12.7"
  }
 },
 "nbformat": 4,
 "nbformat_minor": 5
}
