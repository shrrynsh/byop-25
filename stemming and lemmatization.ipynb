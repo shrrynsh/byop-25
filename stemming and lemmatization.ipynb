{
 "cells": [
  {
   "cell_type": "code",
   "execution_count": 25,
   "id": "1ce9daa7-9ac1-45e1-be8e-a2331475ac6e",
   "metadata": {},
   "outputs": [],
   "source": [
    "import nltk\n",
    "import spacy"
   ]
  },
  {
   "cell_type": "code",
   "execution_count": 26,
   "id": "129709b6-8963-403a-a90e-8f6ae3cbb3c1",
   "metadata": {},
   "outputs": [],
   "source": [
    "from nltk.stem import PorterStemmer"
   ]
  },
  {
   "cell_type": "code",
   "execution_count": 27,
   "id": "81ec44bb-2e23-46ed-a0f5-83a2464bf83e",
   "metadata": {},
   "outputs": [],
   "source": [
    "stemmer=PorterStemmer()"
   ]
  },
  {
   "cell_type": "code",
   "execution_count": 28,
   "id": "628af8a2-df28-4bfe-9a54-7e639016413c",
   "metadata": {},
   "outputs": [
    {
     "name": "stdout",
     "output_type": "stream",
     "text": [
      "eating eat\n",
      "eats eat\n",
      "eat eat\n",
      "ate ate\n",
      "adjustable adjust\n",
      "rafting raft\n",
      "ability abil\n",
      "meeting meet\n",
      "sportsmanship sportsmanship\n"
     ]
    }
   ],
   "source": [
    "words = [\"eating\", \"eats\", \"eat\", \"ate\", \"adjustable\", \"rafting\", \"ability\", \"meeting\",\"sportsmanship\"]\n",
    "\n",
    "for word in words:\n",
    "    print(word,stemmer.stem(word))"
   ]
  },
  {
   "cell_type": "code",
   "execution_count": 29,
   "id": "ae19ea49-5396-4594-949d-b1a952ea0a53",
   "metadata": {},
   "outputs": [],
   "source": [
    "nlp=spacy.load(\"en_core_web_sm\")"
   ]
  },
  {
   "cell_type": "code",
   "execution_count": 30,
   "id": "9bc22aa6-4b77-42c9-baca-98d878d7d0ad",
   "metadata": {},
   "outputs": [
    {
     "name": "stdout",
     "output_type": "stream",
     "text": [
      "eating eat\n",
      "eats eat\n",
      "eat eat\n",
      "ate eat\n",
      "adjustable adjustable\n",
      "rafting raft\n",
      "ability ability\n",
      "meeting meet\n",
      "better well\n"
     ]
    }
   ],
   "source": [
    "doc=nlp(\"eating eats eat ate adjustable rafting ability meeting better\")\n",
    "\n",
    "for token in doc:\n",
    "    print(token,token.lemma_)"
   ]
  },
  {
   "cell_type": "code",
   "execution_count": 41,
   "id": "3a3c9910-6912-42d6-be60-676b21016e4e",
   "metadata": {},
   "outputs": [
    {
     "data": {
      "text/plain": [
       "['tok2vec', 'tagger', 'parser', 'attribute_ruler', 'lemmatizer', 'ner']"
      ]
     },
     "execution_count": 41,
     "metadata": {},
     "output_type": "execute_result"
    }
   ],
   "source": [
    "nlp.pipe_names"
   ]
  },
  {
   "cell_type": "code",
   "execution_count": 45,
   "id": "46f060a1-5695-4c06-908b-ddeb9521cfaf",
   "metadata": {},
   "outputs": [],
   "source": [
    "doc=nlp(\"Bro,you wanna go ?Brah dont say no I am exhausted\")\n"
   ]
  },
  {
   "cell_type": "code",
   "execution_count": 60,
   "id": "bba7bb3c-a812-4ca0-9f1d-fb7bf7a72721",
   "metadata": {},
   "outputs": [],
   "source": [
    "ar=nlp.get_pipe('attribute_ruler')\n",
    "\n",
    "ar.add([[{\"TEXT\" : \"Bro\"}],[{\"TEXT\":\"Brah\"}]],{\"LEMMA\":\"Brother\"})"
   ]
  },
  {
   "cell_type": "code",
   "execution_count": 64,
   "id": "8d87d629-a6a8-4352-8861-3b8f7bdc78bb",
   "metadata": {},
   "outputs": [
    {
     "name": "stdout",
     "output_type": "stream",
     "text": [
      "Brother\n",
      ",\n",
      "you\n",
      "wanna\n",
      "go\n",
      "?\n",
      "Brother\n",
      "do\n",
      "not\n",
      "say\n",
      "no\n",
      "I\n",
      "be\n",
      "exhaust\n"
     ]
    }
   ],
   "source": [
    "doc=nlp(\"Bro,you wanna go ?Brah dont say no I am exhausted\")\n",
    "for token in doc:\n",
    "     print(token.lemma_)"
   ]
  },
  {
   "cell_type": "code",
   "execution_count": null,
   "id": "852c74dc-63ec-4d10-9bd0-b91408ab2628",
   "metadata": {},
   "outputs": [],
   "source": []
  }
 ],
 "metadata": {
  "kernelspec": {
   "display_name": "Python 3 (ipykernel)",
   "language": "python",
   "name": "python3"
  },
  "language_info": {
   "codemirror_mode": {
    "name": "ipython",
    "version": 3
   },
   "file_extension": ".py",
   "mimetype": "text/x-python",
   "name": "python",
   "nbconvert_exporter": "python",
   "pygments_lexer": "ipython3",
   "version": "3.12.7"
  }
 },
 "nbformat": 4,
 "nbformat_minor": 5
}
